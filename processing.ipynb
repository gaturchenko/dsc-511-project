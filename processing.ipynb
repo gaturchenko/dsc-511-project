{
 "cells": [
  {
   "cell_type": "markdown",
   "metadata": {},
   "source": [
    "#### Import libraries, initialize helper class to create Spark session and export data"
   ]
  },
  {
   "cell_type": "code",
   "execution_count": 1,
   "metadata": {},
   "outputs": [],
   "source": [
    "import pandas as pd, re, sys\n",
    "from datetime import datetime\n",
    "from bqWrapper.bq import bqWrapper\n",
    "from pyspark.sql.functions import *\n",
    "from pyspark.sql.types import *\n",
    "from pyspark.sql.window import Window\n",
    "\n",
    "pd.options.display.max_columns = None"
   ]
  },
  {
   "cell_type": "code",
   "execution_count": 2,
   "metadata": {},
   "outputs": [],
   "source": [
    "bqw = bqWrapper()\n",
    "spark = bqw.connection"
   ]
  },
  {
   "cell_type": "code",
   "execution_count": 3,
   "metadata": {},
   "outputs": [],
   "source": [
    "df_ltv = bqw.create_bigquery_connection(connection=spark, table='ltv_data')\n",
    "df_event = bqw.create_bigquery_connection(connection=spark, table='event_data')\n",
    "df_session = bqw.create_bigquery_connection(connection=spark, table='session_data')"
   ]
  },
  {
   "cell_type": "code",
   "execution_count": 4,
   "metadata": {},
   "outputs": [],
   "source": [
    "COHORTS_DIMENSIONS = ['first_touch_date', 'traffic_source', 'os', 'country']"
   ]
  },
  {
   "cell_type": "markdown",
   "metadata": {},
   "source": [
    "#### Process event data"
   ]
  },
  {
   "cell_type": "code",
   "execution_count": 5,
   "metadata": {},
   "outputs": [],
   "source": [
    "df_event = df_event.withColumn('d_cat', when(df_event.d_1 == 1, 'd_1').when(df_event.d_3 == 1, 'd_3').when(df_event.d_5 == 1, 'd_5').\\\n",
    "    when(df_event.d_7 == 1, 'd_7').\\\n",
    "        when((df_event.d_1 != 1)& (df_event.d_3 != 1) & (df_event.d_5 != 1) & (df_event.d_7 != 1), None))"
   ]
  },
  {
   "cell_type": "code",
   "execution_count": 6,
   "metadata": {},
   "outputs": [],
   "source": [
    "session_cols = [i for i in df_event.columns if 'session' in i and 'id' not in i]\n",
    "agg_dict = dict(zip(session_cols, ['sum' for _ in range(len(session_cols))]))\n",
    "df_agg = df_event.groupBy(COHORTS_DIMENSIONS).pivot('d_cat').agg(agg_dict)\n",
    "# rename columns which are e.g. d_1_sum(...) to ..._d_1\n",
    "df_agg = df_agg.toDF(*[(f\"!{i.replace('_sum(', '').replace(')', '')}_\"+re.findall(r'd_\\d+|null', i)[0]).replace('!'+re.findall(r'd_\\d+|null', i)[0], '') if i[i.find('sum'):].replace('sum(', '').replace(')', '') in session_cols else i for i in df_agg.columns])\n",
    "# Drop unnecessary columns of type d_<event>_null\n",
    "df_agg = df_agg.drop(*[str(col) for col in df_agg.columns if '_null' in col])"
   ]
  },
  {
   "cell_type": "markdown",
   "metadata": {},
   "source": [
    "#### Get rid of duplicates in LTV table"
   ]
  },
  {
   "cell_type": "code",
   "execution_count": 7,
   "metadata": {},
   "outputs": [],
   "source": [
    "window = Window.partitionBy([col(i) for i in COHORTS_DIMENSIONS]).orderBy(col(\"cohort_ltv_avg_lifetime\").desc())\n",
    "df_ltv = df_ltv.withColumn('row', row_number().over(window)) \\\n",
    "    .filter(col('row') == 1) \\\n",
    "    .drop('row')"
   ]
  },
  {
   "cell_type": "markdown",
   "metadata": {},
   "source": [
    "#### Join tables to obtain final dataframe"
   ]
  },
  {
   "cell_type": "code",
   "execution_count": 8,
   "metadata": {},
   "outputs": [],
   "source": [
    "df = df_ltv.join(\n",
    "    df_agg,\n",
    "    on=COHORTS_DIMENSIONS,\n",
    "    how='left'\n",
    ")\n",
    "df = df.join(\n",
    "    df_session,\n",
    "    on=COHORTS_DIMENSIONS,\n",
    "    how='left'\n",
    ")"
   ]
  },
  {
   "cell_type": "markdown",
   "metadata": {},
   "source": [
    "#### Process final data"
   ]
  },
  {
   "cell_type": "code",
   "execution_count": 9,
   "metadata": {},
   "outputs": [
    {
     "name": "stdout",
     "output_type": "stream",
     "text": [
      "+----------------+--------------+---+-------+-----+\n",
      "|first_touch_date|traffic_source| os|country|count|\n",
      "+----------------+--------------+---+-------+-----+\n",
      "+----------------+--------------+---+-------+-----+\n",
      "\n"
     ]
    }
   ],
   "source": [
    "# Search duplicates\n",
    "df.groupby(COHORTS_DIMENSIONS) \\\n",
    "    .count() \\\n",
    "    .where('count > 1') \\\n",
    "    .sort('count', ascending=False) \\\n",
    "    .show()"
   ]
  },
  {
   "cell_type": "code",
   "execution_count": 10,
   "metadata": {},
   "outputs": [
    {
     "data": {
      "text/html": [
       "<table border='1'>\n",
       "<tr><th>traffic_source</th><th>os</th><th>country</th><th>cohort_ltv_avg_lifetime</th><th>session_used_extra_steps_d_1</th><th>session_completed_levels_d_1</th><th>session_ended_levels_d_1</th><th>session_reseted_levels_d_1</th><th>session_played_levels_d_1</th><th>session_no_more_extra_steps_d_1</th><th>session_challenged_friend_d_1</th><th>session_user_engagement_sec_d_1</th><th>session_retried_levels_d_1</th><th>session_was_challenged_d_1</th><th>session_claimed_ad_rewards_d_1</th><th>session_failed_levels_d_1</th><th>session_used_extra_steps_d_3</th><th>session_completed_levels_d_3</th><th>session_ended_levels_d_3</th><th>session_reseted_levels_d_3</th><th>session_played_levels_d_3</th><th>session_no_more_extra_steps_d_3</th><th>session_challenged_friend_d_3</th><th>session_user_engagement_sec_d_3</th><th>session_retried_levels_d_3</th><th>session_was_challenged_d_3</th><th>session_claimed_ad_rewards_d_3</th><th>session_failed_levels_d_3</th><th>session_used_extra_steps_d_5</th><th>session_completed_levels_d_5</th><th>session_ended_levels_d_5</th><th>session_reseted_levels_d_5</th><th>session_played_levels_d_5</th><th>session_no_more_extra_steps_d_5</th><th>session_challenged_friend_d_5</th><th>session_user_engagement_sec_d_5</th><th>session_retried_levels_d_5</th><th>session_was_challenged_d_5</th><th>session_claimed_ad_rewards_d_5</th><th>session_failed_levels_d_5</th><th>session_used_extra_steps_d_7</th><th>session_completed_levels_d_7</th><th>session_ended_levels_d_7</th><th>session_reseted_levels_d_7</th><th>session_played_levels_d_7</th><th>session_no_more_extra_steps_d_7</th><th>session_challenged_friend_d_7</th><th>session_user_engagement_sec_d_7</th><th>session_retried_levels_d_7</th><th>session_was_challenged_d_7</th><th>session_claimed_ad_rewards_d_7</th><th>session_failed_levels_d_7</th><th>avg_session_duration_sec</th><th>avg_sessions_count</th></tr>\n",
       "<tr><td>0</td><td>0</td><td>21</td><td>0</td><td>3348</td><td>2646</td><td>2581</td><td>3407</td><td>2646</td><td>3631</td><td>4078</td><td>512</td><td>2777</td><td>4156</td><td>4024</td><td>3322</td><td>3924</td><td>3687</td><td>3627</td><td>3901</td><td>3687</td><td>4008</td><td>4136</td><td>2990</td><td>3684</td><td>4157</td><td>4093</td><td>3787</td><td>4043</td><td>3929</td><td>3875</td><td>4061</td><td>3929</td><td>4088</td><td>4147</td><td>3346</td><td>3907</td><td>4158</td><td>4131</td><td>3974</td><td>4071</td><td>3981</td><td>3935</td><td>4072</td><td>3981</td><td>4109</td><td>4150</td><td>3446</td><td>3964</td><td>4158</td><td>4128</td><td>4017</td><td>0</td><td>0</td></tr>\n",
       "</table>\n"
      ],
      "text/plain": [
       "+--------------+---+-------+-----------------------+----------------------------+----------------------------+------------------------+--------------------------+-------------------------+-------------------------------+-----------------------------+-------------------------------+--------------------------+--------------------------+------------------------------+-------------------------+----------------------------+----------------------------+------------------------+--------------------------+-------------------------+-------------------------------+-----------------------------+-------------------------------+--------------------------+--------------------------+------------------------------+-------------------------+----------------------------+----------------------------+------------------------+--------------------------+-------------------------+-------------------------------+-----------------------------+-------------------------------+--------------------------+--------------------------+------------------------------+-------------------------+----------------------------+----------------------------+------------------------+--------------------------+-------------------------+-------------------------------+-----------------------------+-------------------------------+--------------------------+--------------------------+------------------------------+-------------------------+------------------------+------------------+\n",
       "|traffic_source| os|country|cohort_ltv_avg_lifetime|session_used_extra_steps_d_1|session_completed_levels_d_1|session_ended_levels_d_1|session_reseted_levels_d_1|session_played_levels_d_1|session_no_more_extra_steps_d_1|session_challenged_friend_d_1|session_user_engagement_sec_d_1|session_retried_levels_d_1|session_was_challenged_d_1|session_claimed_ad_rewards_d_1|session_failed_levels_d_1|session_used_extra_steps_d_3|session_completed_levels_d_3|session_ended_levels_d_3|session_reseted_levels_d_3|session_played_levels_d_3|session_no_more_extra_steps_d_3|session_challenged_friend_d_3|session_user_engagement_sec_d_3|session_retried_levels_d_3|session_was_challenged_d_3|session_claimed_ad_rewards_d_3|session_failed_levels_d_3|session_used_extra_steps_d_5|session_completed_levels_d_5|session_ended_levels_d_5|session_reseted_levels_d_5|session_played_levels_d_5|session_no_more_extra_steps_d_5|session_challenged_friend_d_5|session_user_engagement_sec_d_5|session_retried_levels_d_5|session_was_challenged_d_5|session_claimed_ad_rewards_d_5|session_failed_levels_d_5|session_used_extra_steps_d_7|session_completed_levels_d_7|session_ended_levels_d_7|session_reseted_levels_d_7|session_played_levels_d_7|session_no_more_extra_steps_d_7|session_challenged_friend_d_7|session_user_engagement_sec_d_7|session_retried_levels_d_7|session_was_challenged_d_7|session_claimed_ad_rewards_d_7|session_failed_levels_d_7|avg_session_duration_sec|avg_sessions_count|\n",
       "+--------------+---+-------+-----------------------+----------------------------+----------------------------+------------------------+--------------------------+-------------------------+-------------------------------+-----------------------------+-------------------------------+--------------------------+--------------------------+------------------------------+-------------------------+----------------------------+----------------------------+------------------------+--------------------------+-------------------------+-------------------------------+-----------------------------+-------------------------------+--------------------------+--------------------------+------------------------------+-------------------------+----------------------------+----------------------------+------------------------+--------------------------+-------------------------+-------------------------------+-----------------------------+-------------------------------+--------------------------+--------------------------+------------------------------+-------------------------+----------------------------+----------------------------+------------------------+--------------------------+-------------------------+-------------------------------+-----------------------------+-------------------------------+--------------------------+--------------------------+------------------------------+-------------------------+------------------------+------------------+\n",
       "|             0|  0|     21|                      0|                        3348|                        2646|                    2581|                      3407|                     2646|                           3631|                         4078|                            512|                      2777|                      4156|                          4024|                     3322|                        3924|                        3687|                    3627|                      3901|                     3687|                           4008|                         4136|                           2990|                      3684|                      4157|                          4093|                     3787|                        4043|                        3929|                    3875|                      4061|                     3929|                           4088|                         4147|                           3346|                      3907|                      4158|                          4131|                     3974|                        4071|                        3981|                    3935|                      4072|                     3981|                           4109|                         4150|                           3446|                      3964|                      4158|                          4128|                     4017|                       0|                 0|\n",
       "+--------------+---+-------+-----------------------+----------------------------+----------------------------+------------------------+--------------------------+-------------------------+-------------------------------+-----------------------------+-------------------------------+--------------------------+--------------------------+------------------------------+-------------------------+----------------------------+----------------------------+------------------------+--------------------------+-------------------------+-------------------------------+-----------------------------+-------------------------------+--------------------------+--------------------------+------------------------------+-------------------------+----------------------------+----------------------------+------------------------+--------------------------+-------------------------+-------------------------------+-----------------------------+-------------------------------+--------------------------+--------------------------+------------------------------+-------------------------+----------------------------+----------------------------+------------------------+--------------------------+-------------------------+-------------------------------+-----------------------------+-------------------------------+--------------------------+--------------------------+------------------------------+-------------------------+------------------------+------------------+"
      ]
     },
     "execution_count": 10,
     "metadata": {},
     "output_type": "execute_result"
    }
   ],
   "source": [
    "# Detect erroneous values in all possible forms\n",
    "df.select([count(when(col(c).contains('None') | \\\n",
    "                            col(c).contains('NULL') | \\\n",
    "                            (col(c) == '' ) | \\\n",
    "                            col(c).isNull() | \\\n",
    "                            isnan(c), c \n",
    "                           )).alias(c)\n",
    "                    for c in df.columns if c != 'first_touch_date'])"
   ]
  },
  {
   "cell_type": "code",
   "execution_count": 11,
   "metadata": {},
   "outputs": [],
   "source": [
    "# Nulls in d_* variables are literally zeros\n",
    "df = df.fillna(0)"
   ]
  },
  {
   "cell_type": "code",
   "execution_count": 12,
   "metadata": {},
   "outputs": [],
   "source": [
    "# Replace empty countries strings with real values\n",
    "df = df.withColumn('country', when(df.country == '', 'Rest of the World').otherwise(df.country))"
   ]
  },
  {
   "attachments": {},
   "cell_type": "markdown",
   "metadata": {},
   "source": [
    "Write to the table of BigQuery dataset"
   ]
  },
  {
   "cell_type": "code",
   "execution_count": 15,
   "metadata": {},
   "outputs": [],
   "source": [
    "spark.conf.set('temporaryGcsBucket', 'processed-data-bucket')\n",
    "df.write.format('bigquery') \\\n",
    "  .option('table', 'dsc_511.processed_data') \\\n",
    "  .save()"
   ]
  },
  {
   "cell_type": "code",
   "execution_count": 17,
   "metadata": {},
   "outputs": [],
   "source": [
    "df = df.withColumn('session_user_engagement_sec_d_1', df.session_user_engagement_sec_d_1.cast('bigint'))\\\n",
    "       .withColumn('session_user_engagement_sec_d_3', df.session_user_engagement_sec_d_3.cast('bigint'))\\\n",
    "       .withColumn('session_user_engagement_sec_d_5', df.session_user_engagement_sec_d_5.cast('bigint'))\\\n",
    "       .withColumn('session_user_engagement_sec_d_7', df.session_user_engagement_sec_d_7.cast('bigint'))"
   ]
  },
  {
   "cell_type": "code",
   "execution_count": 20,
   "metadata": {},
   "outputs": [],
   "source": [
    "def melt(df,  id_vars, value_vars, var_name=\"variable\", value_name=\"value\"):\n",
    "    # Create array<struct<variable: str, value: ...>>\n",
    "    _vars_and_vals = array(*(\n",
    "        struct(lit(c).alias(var_name), col(c).alias(value_name)) \n",
    "        for c in value_vars))\n",
    "\n",
    "    # Add to the DataFrame and explode\n",
    "    _tmp = df.withColumn(\"_vars_and_vals\", explode(_vars_and_vals))\n",
    "\n",
    "    cols = id_vars + [\n",
    "            col(\"_vars_and_vals\")[x].alias(x) for x in [var_name, value_name]]\n",
    "    return _tmp.select(*cols)"
   ]
  },
  {
   "cell_type": "code",
   "execution_count": 25,
   "metadata": {},
   "outputs": [],
   "source": [
    "df_melted = melt(\n",
    "    df,\n",
    "    COHORTS_DIMENSIONS+['cohort_ltv_avg_lifetime', 'avg_session_duration_sec', 'avg_sessions_count'],\n",
    "    [i for i in df.columns if i not in COHORTS_DIMENSIONS+['cohort_ltv_avg_lifetime', 'avg_session_duration_sec', 'avg_sessions_count']],\n",
    "    'session_metric', 'session_metric_value'\n",
    ")"
   ]
  },
  {
   "cell_type": "code",
   "execution_count": 26,
   "metadata": {},
   "outputs": [],
   "source": [
    "spark.conf.set('temporaryGcsBucket', 'processed-data-bucket')\n",
    "df_melted.write.format('bigquery') \\\n",
    "  .option('table', 'dsc_511.processed_data_long') \\\n",
    "  .save()"
   ]
  },
  {
   "cell_type": "code",
   "execution_count": 27,
   "metadata": {},
   "outputs": [
    {
     "data": {
      "text/plain": [
       "['session_user_engagement_sec',\n",
       " 'session_claimed_ad_rewards',\n",
       " 'session_challenged_friend',\n",
       " 'session_was_challenged',\n",
       " 'session_played_levels',\n",
       " 'session_completed_levels',\n",
       " 'session_retried_levels',\n",
       " 'session_failed_levels',\n",
       " 'session_reseted_levels',\n",
       " 'session_ended_levels',\n",
       " 'session_used_extra_steps',\n",
       " 'session_no_more_extra_steps']"
      ]
     },
     "execution_count": 27,
     "metadata": {},
     "output_type": "execute_result"
    }
   ],
   "source": [
    "session_cols"
   ]
  },
  {
   "cell_type": "code",
   "execution_count": null,
   "metadata": {},
   "outputs": [],
   "source": []
  }
 ],
 "metadata": {
  "kernelspec": {
   "display_name": "Python 3",
   "language": "python",
   "name": "python3"
  },
  "language_info": {
   "codemirror_mode": {
    "name": "ipython",
    "version": 3
   },
   "file_extension": ".py",
   "mimetype": "text/x-python",
   "name": "python",
   "nbconvert_exporter": "python",
   "pygments_lexer": "ipython3",
   "version": "3.7.4"
  },
  "vscode": {
   "interpreter": {
    "hash": "de3a7304373a2ed386fe951c9137ef8d6c9c0656a76027db0e908c100510c9c7"
   }
  }
 },
 "nbformat": 4,
 "nbformat_minor": 2
}
