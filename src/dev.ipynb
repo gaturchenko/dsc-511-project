{
 "cells": [
  {
   "cell_type": "code",
   "execution_count": 1,
   "metadata": {},
   "outputs": [],
   "source": [
    "from typization_utils.schemas import LTVSchema\n",
    "from pyspark.sql import SparkSession"
   ]
  },
  {
   "cell_type": "code",
   "execution_count": 2,
   "metadata": {},
   "outputs": [
    {
     "name": "stderr",
     "output_type": "stream",
     "text": [
      "Setting default log level to \"WARN\".\n",
      "To adjust logging level use sc.setLogLevel(newLevel). For SparkR, use setLogLevel(newLevel).\n"
     ]
    },
    {
     "name": "stdout",
     "output_type": "stream",
     "text": [
      "23/05/06 00:03:10 WARN NativeCodeLoader: Unable to load native-hadoop library for your platform... using builtin-java classes where applicable\n"
     ]
    }
   ],
   "source": [
    "spark = SparkSession.builder.appName(\"App\").master(\"local[*]\").config(\"spark.driver.memory\", \"10g\").getOrCreate()"
   ]
  },
  {
   "cell_type": "code",
   "execution_count": 24,
   "metadata": {},
   "outputs": [],
   "source": [
    "df = spark.createDataFrame([\n",
    "    # Fully valid\n",
    "    {\n",
    "        'first_touch_date': '2023-01-01',\n",
    "        'traffic_source': '(none)',\n",
    "        'os': 'IOS',\n",
    "        'country': 'Cyprus',\n",
    "        'cohort_ltv_avg_lifetime': 0.1\n",
    "    },\n",
    "    {\n",
    "        'first_touch_date': '2023-01-01',\n",
    "        'traffic_source': '(none)',\n",
    "        'os': 'IOS',\n",
    "        'country': 'Cyprus',\n",
    "        'cohort_ltv_avg_lifetime': 0.1\n",
    "    },\n",
    "    # # Invalid date\n",
    "    # {\n",
    "    #     'first_touch_date': '01/01/2023',\n",
    "    #     'traffic_source': 'cpc',\n",
    "    #     'os': 'IOS',\n",
    "    #     'country': 'Cyprus',\n",
    "    #     'cohort_ltv_avg_lifetime': 0.2\n",
    "    # },\n",
    "    # # Invalid OS\n",
    "    # {\n",
    "    #     'first_touch_date': '2023-02-01',\n",
    "    #     'traffic_source': '(none)',\n",
    "    #     'os': 'XIAOMI',\n",
    "    #     'country': 'Cyprus',\n",
    "    #     'cohort_ltv_avg_lifetime': 0.3\n",
    "    # },\n",
    "    # # Invalid date (non-existing month)\n",
    "    # {\n",
    "    #     'first_touch_date': '2023-13-01',\n",
    "    #     'traffic_source': '(none)',\n",
    "    #     'os': 'IOS',\n",
    "    #     'country': 'Cyprus',\n",
    "    #     'cohort_ltv_avg_lifetime': 0.4\n",
    "    # },\n",
    "    # # Invalid country\n",
    "    # {\n",
    "    #     'first_touch_date': '2023-01-01',\n",
    "    #     'traffic_source': '(none)',\n",
    "    #     'os': 'IOS',\n",
    "    #     'country': 'Cyrpus',\n",
    "    #     'cohort_ltv_avg_lifetime': 0.5\n",
    "    # },\n",
    "    # # Invalid ltv\n",
    "    # {\n",
    "    #     'first_touch_date': '2023-01-01',\n",
    "    #     'traffic_source': '(none)',\n",
    "    #     'os': 'IOS',\n",
    "    #     'country': 'Cyprus',\n",
    "    #     'cohort_ltv_avg_lifetime': -0.1\n",
    "    # }\n",
    "])"
   ]
  },
  {
   "cell_type": "code",
   "execution_count": 25,
   "metadata": {},
   "outputs": [],
   "source": [
    "valid_df, errors_df = LTVSchema(split_errors=True).validate_df(df)"
   ]
  },
  {
   "cell_type": "code",
   "execution_count": 27,
   "metadata": {},
   "outputs": [
    {
     "data": {
      "text/plain": [
       "0"
      ]
     },
     "execution_count": 27,
     "metadata": {},
     "output_type": "execute_result"
    }
   ],
   "source": [
    "errors_df.count()"
   ]
  },
  {
   "cell_type": "code",
   "execution_count": null,
   "metadata": {},
   "outputs": [],
   "source": []
  }
 ],
 "metadata": {
  "kernelspec": {
   "display_name": "Python 3",
   "language": "python",
   "name": "python3"
  },
  "language_info": {
   "codemirror_mode": {
    "name": "ipython",
    "version": 3
   },
   "file_extension": ".py",
   "mimetype": "text/x-python",
   "name": "python",
   "nbconvert_exporter": "python",
   "pygments_lexer": "ipython3",
   "version": "3.10.9"
  },
  "orig_nbformat": 4
 },
 "nbformat": 4,
 "nbformat_minor": 2
}
