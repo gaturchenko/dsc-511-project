{
 "cells": [
  {
   "attachments": {},
   "cell_type": "markdown",
   "metadata": {},
   "source": [
    "#### Import modules, declare constants, export data"
   ]
  },
  {
   "cell_type": "code",
   "execution_count": 66,
   "metadata": {},
   "outputs": [],
   "source": [
    "from bqWrapper.bq import bqWrapper\n",
    "from pyspark.sql.functions import *\n",
    "from pyspark.sql.types import DoubleType\n",
    "from pyspark.ml.feature import VectorAssembler, Normalizer, PCA\n",
    "from pyspark.ml.regression import DecisionTreeRegressor, RandomForestRegressor\n",
    "from pyspark.ml.evaluation import RegressionEvaluator\n",
    "from pyspark.ml import Pipeline\n",
    "from pyspark.ml.tuning import CrossValidator, ParamGridBuilder\n",
    "import seaborn as sns, matplotlib.pyplot as plt, json"
   ]
  },
  {
   "cell_type": "code",
   "execution_count": 2,
   "metadata": {},
   "outputs": [],
   "source": [
    "bqw = bqWrapper()\n",
    "spark = bqw.connection\n",
    "df_train = bqw.create_bigquery_connection(connection=spark, table='training_data')\n",
    "df_val = bqw.create_bigquery_connection(connection=spark, table='validation_data')"
   ]
  },
  {
   "cell_type": "code",
   "execution_count": 3,
   "metadata": {},
   "outputs": [],
   "source": [
    "COHORTS_DIMENSIONS = ['first_touch_date', 'traffic_source', 'os', 'country']\n",
    "TARGET_VAR = 'cohort_ltv_avg_lifetime'\n",
    "evaluator = RegressionEvaluator(labelCol=TARGET_VAR, predictionCol='prediction', metricName='rmse')"
   ]
  },
  {
   "attachments": {},
   "cell_type": "markdown",
   "metadata": {},
   "source": [
    "#### Generate train, test data"
   ]
  },
  {
   "cell_type": "code",
   "execution_count": 4,
   "metadata": {},
   "outputs": [],
   "source": [
    "feature_list = [col for col in df_train.columns if (col not in COHORTS_DIMENSIONS) and (col != TARGET_VAR)]\n",
    "assembler = VectorAssembler(inputCols=feature_list, outputCol='features')"
   ]
  },
  {
   "cell_type": "code",
   "execution_count": 5,
   "metadata": {},
   "outputs": [],
   "source": [
    "# Base models\n",
    "df_train_trans = assembler.transform(df_train)\n",
    "(X_train, X_test) = df_train_trans.randomSplit([0.8, 0.2], seed=143)"
   ]
  },
  {
   "cell_type": "code",
   "execution_count": 6,
   "metadata": {},
   "outputs": [],
   "source": [
    "# Cross-validation models, adjusted for Pipeline syntax\n",
    "X_train_cv = X_train.drop(*(COHORTS_DIMENSIONS+['features']))\n",
    "X_test_cv = X_test.drop(*(COHORTS_DIMENSIONS+['features']))"
   ]
  },
  {
   "attachments": {},
   "cell_type": "markdown",
   "metadata": {},
   "source": [
    "#### Dummy baseline average-based model"
   ]
  },
  {
   "cell_type": "code",
   "execution_count": 7,
   "metadata": {},
   "outputs": [],
   "source": [
    "target_avg = X_test.select(mean(df_train.cohort_ltv_avg_lifetime)).collect()[0][f'avg({TARGET_VAR})']\n",
    "df_avg = X_test.select(TARGET_VAR)\n",
    "df_avg = df_avg.withColumn('prediction', lit(target_avg))"
   ]
  },
  {
   "cell_type": "code",
   "execution_count": 8,
   "metadata": {},
   "outputs": [
    {
     "data": {
      "text/plain": [
       "9.99172185623135"
      ]
     },
     "execution_count": 8,
     "metadata": {},
     "output_type": "execute_result"
    }
   ],
   "source": [
    "avg_rmse = evaluator.evaluate(df_avg)\n",
    "avg_rmse"
   ]
  },
  {
   "cell_type": "markdown",
   "metadata": {},
   "source": [
    "#### Decision Tree"
   ]
  },
  {
   "cell_type": "code",
   "execution_count": 20,
   "metadata": {},
   "outputs": [],
   "source": [
    "# Default parameters for all types of regression\n",
    "FEATURES_COL = 'features'\n",
    "SEED = 511"
   ]
  },
  {
   "cell_type": "markdown",
   "metadata": {},
   "source": [
    "##### Default Decision Tree"
   ]
  },
  {
   "cell_type": "code",
   "execution_count": 21,
   "metadata": {},
   "outputs": [],
   "source": [
    "tree = DecisionTreeRegressor(\n",
    "    labelCol=TARGET_VAR,\n",
    "    featuresCol=FEATURES_COL,\n",
    "    seed=SEED\n",
    ")"
   ]
  },
  {
   "cell_type": "code",
   "execution_count": 22,
   "metadata": {},
   "outputs": [],
   "source": [
    "tree_default = tree.fit(X_train)\n",
    "tree_preds = tree_default.transform(X_test)"
   ]
  },
  {
   "cell_type": "code",
   "execution_count": 23,
   "metadata": {},
   "outputs": [
    {
     "data": {
      "text/plain": [
       "8.683845256505068"
      ]
     },
     "execution_count": 23,
     "metadata": {},
     "output_type": "execute_result"
    }
   ],
   "source": [
    "tree_rmse = evaluator.evaluate(tree_preds)\n",
    "tree_rmse"
   ]
  },
  {
   "cell_type": "code",
   "execution_count": 24,
   "metadata": {},
   "outputs": [
    {
     "data": {
      "text/plain": [
       "{'cacheNodeIds': False,\n",
       " 'checkpointInterval': 10,\n",
       " 'featuresCol': 'features',\n",
       " 'impurity': 'variance',\n",
       " 'labelCol': 'cohort_ltv_avg_lifetime',\n",
       " 'maxBins': 32,\n",
       " 'maxDepth': 5,\n",
       " 'maxMemoryInMB': 256,\n",
       " 'minInfoGain': 0.0,\n",
       " 'minInstancesPerNode': 1,\n",
       " 'predictionCol': 'prediction',\n",
       " 'seed': 511}"
      ]
     },
     "execution_count": 24,
     "metadata": {},
     "output_type": "execute_result"
    }
   ],
   "source": [
    "# print params to see defaults\n",
    "{i.name: tree_default.extractParamMap()[i] for i in tree_default.extractParamMap()}"
   ]
  },
  {
   "cell_type": "markdown",
   "metadata": {},
   "source": [
    "##### Tuned Decision Tree"
   ]
  },
  {
   "cell_type": "code",
   "execution_count": 25,
   "metadata": {},
   "outputs": [],
   "source": [
    "pipeline = Pipeline(stages=[assembler, tree])\n",
    "paramGrid = ParamGridBuilder() \\\n",
    "    .addGrid(tree.maxBins, [4, 8, 16, 32]) \\\n",
    "    .addGrid(tree.maxDepth, [i for i in range(2, 10)]) \\\n",
    "    .addGrid(tree.minInstancesPerNode, [1, 10, 50, 100]) \\\n",
    "    .build()\n",
    "crossval = CrossValidator(\n",
    "    estimator=pipeline,\n",
    "    estimatorParamMaps=paramGrid,\n",
    "    evaluator=RegressionEvaluator(labelCol=TARGET_VAR, predictionCol=\"prediction\", metricName=\"rmse\"),\n",
    "    numFolds=10,\n",
    "    seed=SEED\n",
    ")"
   ]
  },
  {
   "cell_type": "code",
   "execution_count": 27,
   "metadata": {},
   "outputs": [],
   "source": [
    "tree_cv = crossval.fit(X_train_cv)\n",
    "tree_cv_best = tree_cv.bestModel"
   ]
  },
  {
   "cell_type": "code",
   "execution_count": 34,
   "metadata": {},
   "outputs": [],
   "source": [
    "tree_cv_best_params = tree_cv_best.stages[-1].extractParamMap()\n",
    "tree_cv_best_params_dict = {param.name: tree_cv_best_params[param] for param in tree_cv_best_params}"
   ]
  },
  {
   "cell_type": "code",
   "execution_count": 37,
   "metadata": {},
   "outputs": [],
   "source": [
    "tree_cv_best_params_dict['labelCol'] = TARGET_VAR\n",
    "tree_cv_best_params_dict['featuresCol'] = FEATURES_COL\n",
    "tree_cv_best_params_dict['seed'] = SEED"
   ]
  },
  {
   "cell_type": "code",
   "execution_count": 38,
   "metadata": {},
   "outputs": [],
   "source": [
    "tree_tuned = DecisionTreeRegressor(\n",
    "    **tree_cv_best_params_dict\n",
    ")"
   ]
  },
  {
   "cell_type": "code",
   "execution_count": 40,
   "metadata": {},
   "outputs": [],
   "source": [
    "tree_tuned_model = tree_tuned.fit(X_train)\n",
    "tree_tuned_preds = tree_tuned_model.transform(X_test)"
   ]
  },
  {
   "cell_type": "code",
   "execution_count": 41,
   "metadata": {},
   "outputs": [
    {
     "data": {
      "text/plain": [
       "8.312011342106903"
      ]
     },
     "execution_count": 41,
     "metadata": {},
     "output_type": "execute_result"
    }
   ],
   "source": [
    "tree_tuned_rmse = evaluator.evaluate(tree_tuned_preds)\n",
    "tree_tuned_rmse"
   ]
  },
  {
   "cell_type": "code",
   "execution_count": 42,
   "metadata": {},
   "outputs": [],
   "source": [
    "df_val_trans = assembler.transform(df_val)\n",
    "df_val_cv = df_val.drop(*(COHORTS_DIMENSIONS+['features']))"
   ]
  },
  {
   "cell_type": "code",
   "execution_count": 44,
   "metadata": {},
   "outputs": [
    {
     "data": {
      "text/plain": [
       "2.5888947600459935"
      ]
     },
     "execution_count": 44,
     "metadata": {},
     "output_type": "execute_result"
    }
   ],
   "source": [
    "tree_cv_preds_val = tree_tuned_model.transform(df_val_trans)\n",
    "tree_cv_rmse_val = evaluator.evaluate(tree_cv_preds_val)\n",
    "tree_cv_rmse_val"
   ]
  },
  {
   "cell_type": "code",
   "execution_count": 46,
   "metadata": {},
   "outputs": [],
   "source": [
    "tree_tuned_model.save('models/decision_tree')"
   ]
  },
  {
   "cell_type": "markdown",
   "metadata": {},
   "source": [
    "#### Random Forest"
   ]
  },
  {
   "cell_type": "code",
   "execution_count": 48,
   "metadata": {},
   "outputs": [],
   "source": [
    "rf = RandomForestRegressor(\n",
    "    labelCol=TARGET_VAR,\n",
    "    featuresCol=FEATURES_COL,\n",
    "    seed=SEED\n",
    ")"
   ]
  },
  {
   "cell_type": "markdown",
   "metadata": {},
   "source": [
    "##### Default Random Forest"
   ]
  },
  {
   "cell_type": "code",
   "execution_count": 49,
   "metadata": {},
   "outputs": [],
   "source": [
    "rf_default = rf.fit(X_train)\n",
    "rf_preds = rf_default.transform(X_test)"
   ]
  },
  {
   "cell_type": "code",
   "execution_count": 50,
   "metadata": {},
   "outputs": [
    {
     "data": {
      "text/plain": [
       "8.557255582745627"
      ]
     },
     "execution_count": 50,
     "metadata": {},
     "output_type": "execute_result"
    }
   ],
   "source": [
    "rf_rmse = evaluator.evaluate(rf_preds)\n",
    "rf_rmse"
   ]
  },
  {
   "cell_type": "code",
   "execution_count": 52,
   "metadata": {},
   "outputs": [
    {
     "data": {
      "text/plain": [
       "{'cacheNodeIds': False,\n",
       " 'checkpointInterval': 10,\n",
       " 'featureSubsetStrategy': 'auto',\n",
       " 'featuresCol': 'features',\n",
       " 'impurity': 'variance',\n",
       " 'labelCol': 'cohort_ltv_avg_lifetime',\n",
       " 'maxBins': 32,\n",
       " 'maxDepth': 5,\n",
       " 'maxMemoryInMB': 256,\n",
       " 'minInfoGain': 0.0,\n",
       " 'minInstancesPerNode': 1,\n",
       " 'numTrees': 20,\n",
       " 'predictionCol': 'prediction',\n",
       " 'seed': 511,\n",
       " 'subsamplingRate': 1.0}"
      ]
     },
     "execution_count": 52,
     "metadata": {},
     "output_type": "execute_result"
    }
   ],
   "source": [
    "# print params to see defaults\n",
    "{i.name: rf_default.extractParamMap()[i] for i in rf_default.extractParamMap()}"
   ]
  },
  {
   "cell_type": "markdown",
   "metadata": {},
   "source": [
    "##### Tuned Random Forest"
   ]
  },
  {
   "cell_type": "code",
   "execution_count": 53,
   "metadata": {},
   "outputs": [],
   "source": [
    "pipeline = Pipeline(stages=[assembler, rf])\n",
    "paramGrid = ParamGridBuilder() \\\n",
    "    .addGrid(rf.maxBins, [8, 16, 32]) \\\n",
    "    .addGrid(rf.maxDepth, [i for i in range(2, 10)]) \\\n",
    "    .addGrid(rf.minInstancesPerNode, [1, 10, 50, 100]) \\\n",
    "    .addGrid(rf.numTrees, [20, 50, 100]) \\\n",
    "    .build()\n",
    "crossval = CrossValidator(\n",
    "    estimator=pipeline,\n",
    "    estimatorParamMaps=paramGrid,\n",
    "    evaluator=RegressionEvaluator(labelCol=TARGET_VAR, predictionCol=\"prediction\", metricName=\"rmse\"),\n",
    "    numFolds=10,\n",
    "    seed=SEED\n",
    ")"
   ]
  },
  {
   "cell_type": "code",
   "execution_count": 54,
   "metadata": {},
   "outputs": [],
   "source": [
    "rf_cv = crossval.fit(X_train_cv)\n",
    "rf_cv_best = rf_cv.bestModel"
   ]
  },
  {
   "cell_type": "code",
   "execution_count": 55,
   "metadata": {},
   "outputs": [],
   "source": [
    "rf_cv_best_params = rf_cv_best.stages[-1].extractParamMap()\n",
    "rf_cv_best_params_dict = {param.name: rf_cv_best_params[param] for param in rf_cv_best_params}"
   ]
  },
  {
   "cell_type": "code",
   "execution_count": 56,
   "metadata": {},
   "outputs": [],
   "source": [
    "rf_cv_best_params_dict['labelCol'] = TARGET_VAR\n",
    "rf_cv_best_params_dict['featuresCol'] = FEATURES_COL\n",
    "rf_cv_best_params_dict['seed'] = SEED"
   ]
  },
  {
   "cell_type": "code",
   "execution_count": 57,
   "metadata": {},
   "outputs": [],
   "source": [
    "rf_tuned = RandomForestRegressor(\n",
    "    **rf_cv_best_params_dict\n",
    ")"
   ]
  },
  {
   "cell_type": "code",
   "execution_count": 65,
   "metadata": {},
   "outputs": [
    {
     "data": {
      "text/plain": [
       "{'cacheNodeIds': False,\n",
       " 'checkpointInterval': 10,\n",
       " 'featureSubsetStrategy': 'auto',\n",
       " 'featuresCol': 'features',\n",
       " 'impurity': 'variance',\n",
       " 'labelCol': 'cohort_ltv_avg_lifetime',\n",
       " 'maxBins': 32,\n",
       " 'maxDepth': 7,\n",
       " 'maxMemoryInMB': 256,\n",
       " 'minInfoGain': 0.0,\n",
       " 'minInstancesPerNode': 10,\n",
       " 'numTrees': 100,\n",
       " 'predictionCol': 'prediction',\n",
       " 'seed': 511,\n",
       " 'subsamplingRate': 1.0}"
      ]
     },
     "execution_count": 65,
     "metadata": {},
     "output_type": "execute_result"
    }
   ],
   "source": [
    "rf_cv_best_params_dict"
   ]
  },
  {
   "cell_type": "code",
   "execution_count": null,
   "metadata": {},
   "outputs": [],
   "source": [
    "tree_cv = crossval.fit(X_train_cv)\n",
    "tree_cv_best = tree_cv.bestModel"
   ]
  },
  {
   "cell_type": "code",
   "execution_count": 59,
   "metadata": {},
   "outputs": [],
   "source": [
    "rf_tuned_model = rf_tuned.fit(X_train)\n",
    "rf_tuned_preds = rf_tuned_model.transform(X_test)"
   ]
  },
  {
   "cell_type": "code",
   "execution_count": 63,
   "metadata": {},
   "outputs": [
    {
     "data": {
      "text/plain": [
       "8.110840700950956"
      ]
     },
     "execution_count": 63,
     "metadata": {},
     "output_type": "execute_result"
    }
   ],
   "source": [
    "rf_tuned_rmse = evaluator.evaluate(rf_tuned_preds)\n",
    "rf_tuned_rmse"
   ]
  },
  {
   "cell_type": "code",
   "execution_count": 64,
   "metadata": {},
   "outputs": [
    {
     "data": {
      "text/plain": [
       "2.3205526127076106"
      ]
     },
     "execution_count": 64,
     "metadata": {},
     "output_type": "execute_result"
    }
   ],
   "source": [
    "rf_cv_preds_val = rf_tuned_model.transform(df_val_trans)\n",
    "rf_cv_rmse_val = evaluator.evaluate(rf_cv_preds_val)\n",
    "rf_cv_rmse_val"
   ]
  },
  {
   "cell_type": "code",
   "execution_count": 69,
   "metadata": {},
   "outputs": [],
   "source": [
    "with open('models_params/random_forest_params.json', 'w') as f:\n",
    "    json.dump(rf_cv_best_params_dict, f, indent=4, ensure_ascii=False)"
   ]
  },
  {
   "cell_type": "code",
   "execution_count": null,
   "metadata": {},
   "outputs": [],
   "source": []
  },
  {
   "cell_type": "code",
   "execution_count": null,
   "metadata": {},
   "outputs": [],
   "source": []
  },
  {
   "cell_type": "markdown",
   "metadata": {},
   "source": [
    "##### Dim red didn't help"
   ]
  },
  {
   "cell_type": "markdown",
   "metadata": {},
   "source": [
    "Some improvement is achieved. However, we can note the d_* features are quite sparse. We can try to reduce dimensionality by adding PCA to the pipeline"
   ]
  },
  {
   "cell_type": "code",
   "execution_count": 10,
   "metadata": {},
   "outputs": [],
   "source": [
    "normalizer = Normalizer(inputCol=\"features\", outputCol=\"normFeatures\", p=2.0)"
   ]
  },
  {
   "cell_type": "code",
   "execution_count": 39,
   "metadata": {},
   "outputs": [],
   "source": [
    "STATIC_COLS = ['first_touch_date', 'traffic_source', 'os', 'country', 'cohort_ltv_avg_lifetime', 'avg_session_duration_sec', 'avg_sessions_count']\n",
    "feature_list = [col for col in df_train.columns if (col not in COHORTS_DIMENSIONS) and (col != TARGET_VAR) and (col not in STATIC_COLS)]\n",
    "assembler = VectorAssembler(inputCols=feature_list, outputCol='features')\n",
    "df_train_trans_norm = assembler.transform(df_train)\n",
    "df_train_trans_norm = normalizer.transform(df_train_trans_norm)"
   ]
  },
  {
   "cell_type": "code",
   "execution_count": 40,
   "metadata": {},
   "outputs": [
    {
     "data": {
      "text/plain": [
       "DenseVector([0.5616, 0.2025, 0.1179, 0.1107])"
      ]
     },
     "execution_count": 40,
     "metadata": {},
     "output_type": "execute_result"
    }
   ],
   "source": [
    "pca = PCA(k=4, inputCol='normFeatures', outputCol='pca_features')\n",
    "pca_model = pca.fit(df_train_trans_norm)\n",
    "pca_model.explainedVariance"
   ]
  },
  {
   "cell_type": "code",
   "execution_count": 41,
   "metadata": {},
   "outputs": [],
   "source": [
    "df_train_trans_norm = pca_model.transform(df_train_trans_norm)"
   ]
  },
  {
   "cell_type": "code",
   "execution_count": 42,
   "metadata": {},
   "outputs": [],
   "source": [
    "def ith_(v, i):\n",
    "   return float(v[i])\n",
    "ith = udf(ith_, DoubleType())"
   ]
  },
  {
   "cell_type": "code",
   "execution_count": 43,
   "metadata": {},
   "outputs": [],
   "source": [
    "df_train_trans_norm = df_train_trans_norm.withColumn('pca_1', (ith(df_train_trans_norm.pca_features, lit(0)))) \\\n",
    "                                         .withColumn('pca_2', (ith(df_train_trans_norm.pca_features, lit(1)))) \\\n",
    "                                         .withColumn('pca_3', (ith(df_train_trans_norm.pca_features, lit(2)))) \\\n",
    "                                         .withColumn('pca_4', (ith(df_train_trans_norm.pca_features, lit(3))))"
   ]
  },
  {
   "cell_type": "code",
   "execution_count": 52,
   "metadata": {},
   "outputs": [],
   "source": [
    "feature_list = [col for col in df_train_trans_norm.columns if (col not in COHORTS_DIMENSIONS) and (col != TARGET_VAR) and ('_d_' not in col) and ('ature') not in col]\n",
    "assembler = VectorAssembler(inputCols=feature_list, outputCol='reduced_features')\n",
    "df_train_trans_pca = assembler.transform(df_train_trans_norm)"
   ]
  },
  {
   "cell_type": "code",
   "execution_count": 53,
   "metadata": {},
   "outputs": [],
   "source": [
    "(X_train_pca, X_test_pca) = df_train_trans_pca.randomSplit([0.8, 0.2], seed=143)\n",
    "X_train_cv_pca = X_train_pca.drop(*(COHORTS_DIMENSIONS+['features']))\n",
    "X_test_cv_pca = X_test_pca.drop(*(COHORTS_DIMENSIONS+['features']))"
   ]
  },
  {
   "cell_type": "code",
   "execution_count": 62,
   "metadata": {},
   "outputs": [],
   "source": [
    "tree_pca = DecisionTreeRegressor(\n",
    "    labelCol=TARGET_VAR,\n",
    "    featuresCol='reduced_features'\n",
    ")"
   ]
  },
  {
   "cell_type": "code",
   "execution_count": 63,
   "metadata": {},
   "outputs": [],
   "source": [
    "tree_default_pca = tree_pca.fit(X_train_pca)\n",
    "tree_preds_pca = tree_default_pca.transform(X_test_pca)"
   ]
  },
  {
   "cell_type": "code",
   "execution_count": 64,
   "metadata": {},
   "outputs": [
    {
     "data": {
      "text/plain": [
       "9.215573985681894"
      ]
     },
     "execution_count": 64,
     "metadata": {},
     "output_type": "execute_result"
    }
   ],
   "source": [
    "tree_pca_rmse = evaluator.evaluate(tree_preds_pca)\n",
    "tree_pca_rmse"
   ]
  },
  {
   "cell_type": "code",
   "execution_count": 66,
   "metadata": {},
   "outputs": [
    {
     "name": "stdout",
     "output_type": "stream",
     "text": [
      "+--------------------+\n",
      "|    reduced_features|\n",
      "+--------------------+\n",
      "|[111.0,1.0,-0.890...|\n",
      "|(6,[0,1],[353.0,3...|\n",
      "|[87.5,3.5,0.20026...|\n",
      "+--------------------+\n",
      "\n"
     ]
    }
   ],
   "source": [
    "df_train_trans_pca.select('reduced_features').limit(3).show()"
   ]
  },
  {
   "cell_type": "code",
   "execution_count": null,
   "metadata": {},
   "outputs": [],
   "source": []
  }
 ],
 "metadata": {
  "kernelspec": {
   "display_name": "Python 3.7.4 ('base')",
   "language": "python",
   "name": "python3"
  },
  "language_info": {
   "codemirror_mode": {
    "name": "ipython",
    "version": 3
   },
   "file_extension": ".py",
   "mimetype": "text/x-python",
   "name": "python",
   "nbconvert_exporter": "python",
   "pygments_lexer": "ipython3",
   "version": "3.7.4"
  },
  "orig_nbformat": 4,
  "vscode": {
   "interpreter": {
    "hash": "dda036b044301f9091cdb98295c1634275bbc3d7baf6cf3ee7e53214f1899e31"
   }
  }
 },
 "nbformat": 4,
 "nbformat_minor": 2
}
